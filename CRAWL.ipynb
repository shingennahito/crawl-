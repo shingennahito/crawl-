{
 "cells": [
  {
   "attachments": {},
   "cell_type": "markdown",
   "metadata": {},
   "source": [
    "## Edgeに自動的にclickする"
   ]
  },
  {
   "cell_type": "code",
   "execution_count": 176,
   "metadata": {},
   "outputs": [],
   "source": [
    "from selenium import webdriver\n",
    "from selenium.webdriver.common.keys import Keys\n",
    "from bs4 import BeautifulSoup \n",
    "import pandas as pd\n",
    "import numpy as np\n",
    "\n",
    "url = 'https://www.amazon.co.jp/'\n",
    "options=webdriver.EdgeOptions()\n",
    "options.add_argument('--headless')\n",
    "driver = webdriver.Edge(options=options)\n",
    "driver.get(url)\n",
    "\n",
    "find = driver.find_elements(by='id', value='twotabsearchtextbox')\n",
    "find[0].send_keys(input('ban muon mua sach gi'))\n",
    "find[0].send_keys(Keys.RETURN )"
   ]
  },
  {
   "cell_type": "code",
   "execution_count": 177,
   "metadata": {},
   "outputs": [
    {
     "name": "stdout",
     "output_type": "stream",
     "text": [
      "['https://www.amazon.co.jp/gp/slredirect/picassoRedirect.html/ref=pa_sp_atf_aps_sr_pg1_1?ie=UTF8&adId=A3QRZMS7FODE7V&qualifier=1684117846&id=3467903299615544&widgetName=sp_atf&url=%2F%25E6%259A%25AE%25E3%2582%2589%25E3%2581%2597%25E3%2581%258C%25E5%25A4%2589%25E3%2582%258F%25E3%2582%258B%25E6%2599%2582%25E7%259F%25AD%25E5%25AE%25B6%25E4%25BA%258B-%25E5%25AE%25B6%25E4%25BA%258B%25E3%2580%2581%25E8%2582%25B2%25E5%2585%2590%25E3%2580%2581%25E4%25BB%2595%25E4%25BA%258B%25E3%2581%25A7%25E3%2583%259C%25E3%2583%25AD%25E3%2583%259C%25E3%2583%25AD%25E3%2581%25A0%25E3%2581%25A3%25E3%2581%259F%25E7%25A7%2581%25E3%2581%258C20%25E6%2599%2582%25E4%25BB%25A5%25E9%2599%258D%25E3%2582%2592%25E8%2587%25AA%25E5%2588%2586%25E6%2599%2582%25E9%2596%2593%25E3%2581%25AB%25E3%2581%2599%25E3%2582%258B%25E3%2581%25BE%25E3%2581%25A7-%25E3%2581%258B%25E3%2581%258A%25E3%2582%258A-ebook%2Fdp%2FB098WMCYBT%2Fref%3Dsr_1_1_sspa%3F__mk_ja_JP%3D%25E3%2582%25AB%25E3%2582%25BF%25E3%2582%25AB%25E3%2583%258A%26keywords%3D%25E5%25AE%25B6%25E4%25BA%258B%26qid%3D1684117846%26sr%3D8-1-spons%26psc%3D1', 'https://www.amazon.co.jp/gp/slredirect/picassoRedirect.html/ref=pa_sp_atf_aps_sr_pg1_1?ie=UTF8&adId=A1HZJ24KZLEWC5&qualifier=1684117846&id=3467903299615544&widgetName=sp_atf&url=%2F%25E4%25B8%2580%25E7%2594%259F%25E4%25BD%25BF%25E3%2581%2588%25E3%2582%258B%25E3%2582%25AA%25E3%2583%25AC%25E3%2583%25B3%25E3%2582%25B8%25E3%2583%259A%25E3%2583%25BC%25E3%2582%25B8VOL-8-%25E7%25B5%25B6%25E5%25AF%25BE%25E4%25BD%25BF%25E3%2581%2588%25E3%2582%258B%25EF%25BC%2581%25E5%25AE%25B6%25E4%25BA%258B%25E3%2583%25A9%25E3%2582%25AF%25EF%25BC%2586%25E4%25BE%25BF%25E5%2588%25A9%25E3%2583%25AF%25E3%2582%25B6%25E9%259B%2586-%25E3%2582%25AA%25E3%2583%25AC%25E3%2583%25B3%25E3%2582%25B8%25E3%2583%259A%25E3%2583%25BC%25E3%2582%25B8-ebook%2Fdp%2FB07KR4YCZS%2Fref%3Dsr_1_2_sspa%3F__mk_ja_JP%3D%25E3%2582%25AB%25E3%2582%25BF%25E3%2582%25AB%25E3%2583%258A%26keywords%3D%25E5%25AE%25B6%25E4%25BA%258B%26qid%3D1684117846%26sr%3D8-2-spons%26psc%3D1', 'https://www.amazon.co.jp/gp/slredirect/picassoRedirect.html/ref=pa_sp_atf_aps_sr_pg1_1?ie=UTF8&adId=A1IQ7QOXQYLOIZ&qualifier=1684117846&id=3467903299615544&widgetName=sp_atf&url=%2F%25E3%2580%258C%25E3%2581%2584%25E3%2581%25BE%25E3%2580%258D%25E7%259F%25A5%25E3%2582%258A%25E3%2581%259F%25E3%2581%2584%25E3%2581%2593%25E3%2581%25A8%25E3%2581%258C%25E5%2585%25A8%25E9%2583%25A8%25E3%2581%2582%25E3%2582%258B%25EF%25BC%2581-%25E3%2581%25BF%25E3%2582%2593%25E3%2581%25AA%25E3%2581%25AE%25E5%25AE%25B6%25E4%25BA%258B-%25E6%2596%2599%25E7%2590%2586%25E3%2580%2581%25E3%2581%258A%25E6%258E%2583%25E9%2599%25A4%25E3%2580%2581%25E6%25B4%2597%25E6%25BF%25AF-%25E8%25A1%25A3%25E9%25A1%259E%25E3%2582%25B1%25E3%2582%25A2%25E3%2580%2581%25E5%258F%258E%25E7%25B4%258D-%25E7%2589%2587%25E3%2581%25A5%25E3%2581%2591250%25E7%2582%25B9-%25E3%2582%25AA%25E3%2583%25AC%25E3%2583%25B3%25E3%2582%25B8%25E3%2583%259A%25E3%2583%25BC%25E3%2582%25B8newBEST%25E7%2599%25BA%25E8%25A1%25A8%25E3%2580%2582-%25E3%2582%25AA%25E3%2583%25AC%25E3%2583%25B3%25E3%2582%25B8%25E3%2583%259A%25E3%2583%25BC%25E3%2582%25B8-ebook%2Fdp%2FB07TPL8KCX%2Fref%3Dsr_1_3_sspa%3F__mk_ja_JP%3D%25E3%2582%25AB%25E3%2582%25BF%25E3%2582%25AB%25E3%2583%258A%26keywords%3D%25E5%25AE%25B6%25E4%25BA%258B%26qid%3D1684117846%26sr%3D8-3-spons%26psc%3D1', 'https://www.amazon.co.jp/gp/slredirect/picassoRedirect.html/ref=pa_sp_atf_aps_sr_pg1_1?ie=UTF8&adId=A2NRD8LXF8VULE&qualifier=1684117846&id=3467903299615544&widgetName=sp_atf&url=%2F%25E3%2582%25AF%25E3%2583%25AD%25E3%2583%25AF%25E3%2583%2583%25E3%2582%25B5%25E3%2583%25B3%25E7%2589%25B9%25E5%2588%25A5%25E7%25B7%25A8%25E9%259B%2586-%25E7%2584%25A1%25E9%25A7%2584%25E3%2581%25AE%25E3%2581%25AA%25E3%2581%2584%25E3%2580%258C%25E5%25AE%25B6%25E4%25BA%258B%25E3%2580%258D%25E3%2580%2582-%25E3%2583%259E%25E3%2582%25AC%25E3%2582%25B8%25E3%2583%25B3%25E3%2583%258F%25E3%2582%25A6%25E3%2582%25B9%25E3%2583%25A0%25E3%2583%2583%25E3%2582%25AF%2Fdp%2F4838754973%2Fref%3Dsr_1_4_sspa%3F__mk_ja_JP%3D%25E3%2582%25AB%25E3%2582%25BF%25E3%2582%25AB%25E3%2583%258A%26keywords%3D%25E5%25AE%25B6%25E4%25BA%258B%26qid%3D1684117846%26sr%3D8-4-spons%26psc%3D1', 'https://www.amazon.co.jp/%E3%81%93%E3%81%AE%E4%B8%80%E5%86%8A%E3%81%A7%E3%81%99%E3%81%B9%E3%81%A6%E3%81%8C%E3%82%8F%E3%81%8B%E3%82%8B-%E5%AE%B6%E4%BA%8B%E3%81%8D%E3%81%BB%E3%82%93%E6%96%B0%E4%BA%8B%E5%85%B8-%E8%97%A4%E5%8E%9F%E5%8D%83%E7%A7%8B/dp/4023330108/ref=sr_1_5?__mk_ja_JP=%E3%82%AB%E3%82%BF%E3%82%AB%E3%83%8A&keywords=%E5%AE%B6%E4%BA%8B&qid=1684117846&sr=8-5', 'https://www.amazon.co.jp/13%E6%AD%B3%E3%81%8B%E3%82%89%E3%81%AE%E8%87%AA%E6%B4%BB%E8%A1%93-%E4%B8%80%E7%94%9F%E3%81%A4%E3%81%84%E3%81%A6%E3%81%BE%E3%82%8F%E3%82%8B%E5%AE%B6%E4%BA%8B%E3%81%AE%E3%82%AD%E3%83%9B%E3%83%B3%E3%81%8C%E8%BA%AB%E3%81%AB%E3%81%A4%E3%81%8F%E6%9C%AC-%E5%A4%A7%E5%92%8C%E5%87%BA%E7%89%88-%E5%A4%A7%E4%BA%BA%E3%81%AE%E5%B8%B8%E8%AD%98%E7%A0%94%E7%A9%B6%E4%BC%9A-ebook/dp/B07V8MKVN9/ref=sr_1_6?__mk_ja_JP=%E3%82%AB%E3%82%BF%E3%82%AB%E3%83%8A&keywords=%E5%AE%B6%E4%BA%8B&qid=1684117846&sr=8-6', 'https://www.amazon.co.jp/%E3%81%8B%E3%81%91%E3%82%8B%E6%89%8B%E9%96%93%E3%81%8C%E5%8D%8A%E5%88%86%E3%81%AB-%E5%9B%B0%E3%82%8A%E3%81%94%E3%81%A8%E8%A7%A3%E6%B1%BA-%E5%AE%B6%E4%BA%8B%E3%83%AF%E3%82%B6262-%E3%81%8B%E3%81%8A%E3%82%8A/dp/4048975390/ref=sr_1_7?__mk_ja_JP=%E3%82%AB%E3%82%BF%E3%82%AB%E3%83%8A&keywords=%E5%AE%B6%E4%BA%8B&qid=1684117846&sr=8-7', 'https://www.amazon.co.jp/%E6%84%9B%E3%81%AE%E3%82%A8%E3%83%8D%E3%83%AB%E3%82%AE%E3%83%BC%E5%AE%B6%E4%BA%8B-%E3%81%99%E3%81%BF%E3%82%8C%E6%9B%B8%E6%88%BF-%E5%8A%A0%E8%8C%82%E8%B0%B7-%E7%9C%9F%E7%B4%80/dp/4909957014/ref=sr_1_8?__mk_ja_JP=%E3%82%AB%E3%82%BF%E3%82%AB%E3%83%8A&keywords=%E5%AE%B6%E4%BA%8B&qid=1684117846&sr=8-8', 'https://www.amazon.co.jp/%E3%81%84%E3%81%A1%E3%81%B0%E3%82%93%E3%82%8F%E3%81%8B%E3%82%8A%E3%82%84%E3%81%99%E3%81%84-%E5%AE%B6%E4%BA%8B%E3%81%AE%E3%81%8D%E3%81%BB%E3%82%93%E5%A4%A7%E4%BA%8B%E5%85%B8-%E6%88%90%E7%BE%8E%E5%A0%82%E5%87%BA%E7%89%88%E7%B7%A8%E9%9B%86%E9%83%A8/dp/4415329144/ref=sr_1_9?__mk_ja_JP=%E3%82%AB%E3%82%BF%E3%82%AB%E3%83%8A&keywords=%E5%AE%B6%E4%BA%8B&qid=1684117846&sr=8-9', 'https://www.amazon.co.jp/%E3%83%8A%E3%82%B3%E3%81%95%E3%82%93%E3%81%A1%E3%81%AE%E9%A0%91%E5%BC%B5%E3%82%89%E3%81%AA%E3%81%84%E5%AE%B6%E4%BA%8B-%E3%82%B3%E3%83%9F%E3%83%83%E3%82%AF%E3%82%A8%E3%83%83%E3%82%BB%E3%82%A4-%E3%83%8A%E3%82%B3-ebook/dp/B07V4K85MD/ref=sr_1_10?__mk_ja_JP=%E3%82%AB%E3%82%BF%E3%82%AB%E3%83%8A&keywords=%E5%AE%B6%E4%BA%8B&qid=1684117846&sr=8-10', 'https://www.amazon.co.jp/%E5%BF%99%E3%81%97%E3%81%84%E4%BA%BA%E3%81%AE%E4%BA%BA%E7%94%9F%E3%81%8C%E6%95%B4%E3%81%86-%E5%AE%B6%E4%BA%8B%E3%81%AE%E7%BF%92%E6%85%A3-%E6%9C%AC%E9%96%93%E6%9C%9D%E5%AD%90/dp/4791625994/ref=sr_1_11?__mk_ja_JP=%E3%82%AB%E3%82%BF%E3%82%AB%E3%83%8A&keywords=%E5%AE%B6%E4%BA%8B&qid=1684117846&sr=8-11', 'https://www.amazon.co.jp/%E3%80%8C%E5%AE%B6%E4%BA%8B%E3%81%AE%E3%81%97%E3%81%99%E3%81%8E%E3%80%8D%E3%81%8C%E6%97%A5%E6%9C%AC%E3%82%92%E6%BB%85%E3%81%BC%E3%81%99-%E5%85%89%E6%96%87%E7%A4%BE%E6%96%B0%E6%9B%B8-%E4%BD%90%E5%85%89%E7%B4%80%E5%AD%90/dp/4334043232/ref=sr_1_12?__mk_ja_JP=%E3%82%AB%E3%82%BF%E3%82%AB%E3%83%8A&keywords=%E5%AE%B6%E4%BA%8B&qid=1684117846&sr=8-12', 'https://www.amazon.co.jp/%E5%AE%B6%E4%BA%8B%E3%81%AA%E3%82%93%E3%81%A6%E9%81%A9%E5%BD%93%E3%81%A7%E3%81%84%E3%81%84-%E3%83%9C%E3%83%B3%E3%83%99%E3%82%A4/dp/4046043636/ref=sr_1_13?__mk_ja_JP=%E3%82%AB%E3%82%BF%E3%82%AB%E3%83%8A&keywords=%E5%AE%B6%E4%BA%8B&qid=1684117846&sr=8-13', 'https://www.amazon.co.jp/%E5%AE%B6%E4%BA%8B%E3%81%93%E3%81%9D%E3%80%81%E6%9C%80%E5%BC%B7%E3%81%AE%E3%83%93%E3%82%B8%E3%83%8D%E3%82%B9%E3%83%88%E3%83%AC%E3%83%BC%E3%83%8B%E3%83%B3%E3%82%B0%E3%81%A7%E3%81%82%E3%82%8B-%E5%A0%80%E5%AE%8F%E5%8F%B2/dp/4866801468/ref=sr_1_14?__mk_ja_JP=%E3%82%AB%E3%82%BF%E3%82%AB%E3%83%8A&keywords=%E5%AE%B6%E4%BA%8B&qid=1684117846&sr=8-14', 'https://www.amazon.co.jp/%E3%82%AF%E3%83%AD%E3%83%AF%E3%83%83%E3%82%B5%E3%83%B3%E7%89%B9%E5%88%A5%E7%B7%A8%E9%9B%86-%E7%84%A1%E9%A7%84%E3%81%AE%E3%81%AA%E3%81%84%E3%80%8C%E5%AE%B6%E4%BA%8B%E3%80%8D%E3%80%82-%E3%83%9E%E3%82%AC%E3%82%B8%E3%83%B3%E3%83%8F%E3%82%A6%E3%82%B9%E3%83%A0%E3%83%83%E3%82%AF/dp/4838754973/ref=sr_1_15?__mk_ja_JP=%E3%82%AB%E3%82%BF%E3%82%AB%E3%83%8A&keywords=%E5%AE%B6%E4%BA%8B&qid=1684117846&sr=8-15', 'https://www.amazon.co.jp/%E3%81%BB%E3%81%97%E3%81%84%E3%81%AE%E3%81%AF%E3%80%8C%E3%81%A4%E3%81%8B%E3%82%8C%E3%81%AA%E3%81%84%E5%AE%B6%E6%97%8F%E3%80%8D-%E3%83%AF%E3%83%B3%E3%82%AA%E3%83%9A%E5%AE%B6%E4%BA%8B%EF%BC%86%E8%82%B2%E5%85%90%E3%81%AB%E7%B5%B6%E6%9C%9B%E3%81%97%E3%81%9F%E7%A7%81%E3%81%8C%E8%A6%8B%E3%81%A4%E3%81%91%E3%81%9F%E5%AE%B6%E6%97%8F%E3%81%AE%E3%82%B7%E3%82%A2%E3%83%AF%E3%82%BB-%E8%AC%9B%E8%AB%87%E7%A4%BE%E3%81%AE%E5%AE%9F%E7%94%A8%EF%BC%A2%EF%BC%AF%EF%BC%AF%EF%BC%AB-%E3%83%8F%E3%83%A9%E3%83%A6%E3%82%AD-ebook/dp/B08NJQRGT2/ref=sr_1_16?__mk_ja_JP=%E3%82%AB%E3%82%BF%E3%82%AB%E3%83%8A&keywords=%E5%AE%B6%E4%BA%8B&qid=1684117846&sr=8-16', 'https://www.amazon.co.jp/%E6%84%9B%E3%81%AE%E3%82%A8%E3%83%8D%E3%83%AB%E3%82%AE%E3%83%BC%E5%AE%B6%E4%BA%8B-%E3%81%99%E3%81%A6%E3%81%8D%E3%83%A1%E3%83%A2303%E9%81%B8-%E3%81%99%E3%81%BF%E3%82%8C%E6%9B%B8%E6%88%BF-%E5%8A%A0%E8%8C%82%E8%B0%B7-%E7%9C%9F%E7%B4%80/dp/4909957235/ref=sr_1_17?__mk_ja_JP=%E3%82%AB%E3%82%BF%E3%82%AB%E3%83%8A&keywords=%E5%AE%B6%E4%BA%8B&qid=1684117846&sr=8-17', 'https://www.amazon.co.jp/%E6%9A%AE%E3%82%89%E3%81%97%E3%81%8C%E5%A4%89%E3%82%8F%E3%82%8B%E6%99%82%E7%9F%AD%E5%AE%B6%E4%BA%8B-%E5%AE%B6%E4%BA%8B%E3%80%81%E8%82%B2%E5%85%90%E3%80%81%E4%BB%95%E4%BA%8B%E3%81%A7%E3%83%9C%E3%83%AD%E3%83%9C%E3%83%AD%E3%81%A0%E3%81%A3%E3%81%9F%E7%A7%81%E3%81%8C20%E6%99%82%E4%BB%A5%E9%99%8D%E3%82%92%E8%87%AA%E5%88%86%E6%99%82%E9%96%93%E3%81%AB%E3%81%99%E3%82%8B%E3%81%BE%E3%81%A7-%E3%81%8B%E3%81%8A%E3%82%8A/dp/4048969897/ref=sr_1_18?__mk_ja_JP=%E3%82%AB%E3%82%BF%E3%82%AB%E3%83%8A&keywords=%E5%AE%B6%E4%BA%8B&qid=1684117846&sr=8-18', 'https://www.amazon.co.jp/%E6%9A%AE%E3%82%89%E3%81%97%E3%81%8C%E6%9C%AC%E5%BD%93%E3%81%AB%E3%83%A9%E3%82%AF%E3%81%AB%E3%81%AA%E3%82%8B-%E3%83%99%E3%82%A2%E3%83%BC%E3%82%BA%E5%BC%8F%E5%AE%B6%E4%BA%8B%E4%BA%8B%E5%85%B8/dp/477621153X/ref=sr_1_19?__mk_ja_JP=%E3%82%AB%E3%82%BF%E3%82%AB%E3%83%8A&keywords=%E5%AE%B6%E4%BA%8B&qid=1684117846&sr=8-19', 'https://www.amazon.co.jp/%E8%87%AA%E5%88%86%E3%82%92%E4%BC%91%E3%81%BE%E3%81%9B%E3%82%8B%E5%AE%B6%E4%BA%8B-%E8%86%A8%E5%A4%A7%E3%81%AA%E5%AE%B6%E3%81%97%E3%81%94%E3%81%A8%E3%81%8B%E3%82%89%E3%81%97%E3%82%8C%E3%81%A3%E3%81%A8%E8%A7%A3%E6%94%BE%E3%81%95%E3%82%8C%E3%82%8B%E3%80%8C%E6%9C%80%E7%9F%AD%E3%83%AB%E3%83%BC%E3%83%88%E3%80%8D%E3%81%AE%E8%A6%8B%E3%81%A4%E3%81%91%E3%81%8B%E3%81%9F-%E6%99%82%E7%9F%AD%E5%AE%B6%E4%BA%8B%E3%82%A2%E3%83%89%E3%83%90%E3%82%A4%E3%82%B6%E3%83%BC-%E6%BA%80%E6%9C%88/dp/4046055855/ref=sr_1_20?__mk_ja_JP=%E3%82%AB%E3%82%BF%E3%82%AB%E3%83%8A&keywords=%E5%AE%B6%E4%BA%8B&qid=1684117846&sr=8-20', 'https://www.amazon.co.jp/%E5%A4%AB%E3%81%8C%E7%9F%A5%E3%82%89%E3%81%AA%E3%81%84%E5%AE%B6%E4%BA%8B%E3%83%AA%E3%82%B9%E3%83%88-%E9%87%8E%E3%80%85%E6%9D%91-%E5%8F%8B%E7%B4%80%E5%AD%90/dp/4575314897/ref=sr_1_21?__mk_ja_JP=%E3%82%AB%E3%82%BF%E3%82%AB%E3%83%8A&keywords=%E5%AE%B6%E4%BA%8B&qid=1684117846&sr=8-21', 'https://www.amazon.co.jp/%E3%81%8A%E3%81%95%E3%82%88%E3%81%95%E3%82%93%E6%B5%81-%E3%81%8C%E3%82%93%E3%81%B0%E3%82%89%E3%81%AA%E3%81%8F%E3%81%A6%E3%82%82%E3%82%AD%E3%83%AC%E3%82%A4%E3%81%8C%E7%B6%9A%E3%81%8F-%E5%AE%B6%E4%BA%8B%E3%81%AE%E3%81%8F%E3%81%B5%E3%81%86-%E3%81%8A%E6%AF%8D%E3%81%95%E3%82%93%E4%BB%95%E4%BA%8B%E3%81%8C%E3%83%A9%E3%82%AF%E3%81%AB%E3%81%AA%E3%82%8B%EF%BC%81-%E3%81%8A%E3%81%95%E3%82%88-ebook/dp/B07P32MJJJ/ref=sr_1_22?__mk_ja_JP=%E3%82%AB%E3%82%BF%E3%82%AB%E3%83%8A&keywords=%E5%AE%B6%E4%BA%8B&qid=1684117846&sr=8-22', 'https://www.amazon.co.jp/60%E6%AD%B3%E3%81%8B%E3%82%89%E3%81%AE%E7%96%B2%E3%82%8C%E3%81%AA%E3%81%84%E5%AE%B6%E4%BA%8B-%E6%9C%AC%E9%96%93%E6%9C%9D%E5%AD%90/dp/4413113861/ref=sr_1_23?__mk_ja_JP=%E3%82%AB%E3%82%BF%E3%82%AB%E3%83%8A&keywords=%E5%AE%B6%E4%BA%8B&qid=1684117846&sr=8-23', 'https://www.amazon.co.jp/9%E5%89%B2%E3%82%84%E3%82%81%E3%82%8B%E3%80%82%E3%83%A9%E3%82%AF%E3%81%AB%E6%9A%AE%E3%82%89%E3%81%99%E5%AE%B6%E4%BA%8B%E8%A1%93-TJMOOK-%E5%AE%9D%E5%B3%B6%E7%A4%BE/dp/4299033396/ref=sr_1_24?__mk_ja_JP=%E3%82%AB%E3%82%BF%E3%82%AB%E3%83%8A&keywords=%E5%AE%B6%E4%BA%8B&qid=1684117846&sr=8-24', 'https://www.amazon.co.jp/%E3%82%84%E3%81%A3%E3%81%A6%E3%82%82%E3%82%84%E3%81%A3%E3%81%A6%E3%82%82%E7%B5%82%E3%82%8F%E3%82%89%E3%81%AA%E3%81%84%E5%90%8D%E3%82%82%E3%81%AA%E3%81%8D%E5%AE%B6%E4%BA%8B%E3%81%AB%E5%90%8D%E5%89%8D%E3%82%92%E3%81%A4%E3%81%91%E3%81%9F%E3%82%89%E3%81%9D%E3%81%AE%E5%A4%9A%E3%81%95%E3%81%AB%E9%A9%9A%E3%81%84%E3%81%9F%E3%80%82-%E6%A2%85%E7%94%B0%E6%82%9F%E5%8F%B8/dp/4763137786/ref=sr_1_25?__mk_ja_JP=%E3%82%AB%E3%82%BF%E3%82%AB%E3%83%8A&keywords=%E5%AE%B6%E4%BA%8B&qid=1684117846&sr=8-25', 'https://www.amazon.co.jp/%E5%AF%BE%E5%B2%B8%E3%81%AE%E5%AE%B6%E4%BA%8B-%E8%AC%9B%E8%AB%87%E7%A4%BE%E6%96%87%E5%BA%AB-%E6%9C%B1%E9%87%8E-%E5%B8%B0%E5%AD%90/dp/4065237122/ref=sr_1_26?__mk_ja_JP=%E3%82%AB%E3%82%BF%E3%82%AB%E3%83%8A&keywords=%E5%AE%B6%E4%BA%8B&qid=1684117846&sr=8-26', 'https://www.amazon.co.jp/%E8%A5%BF%E5%9C%92%E5%AF%BA%E3%81%95%E3%82%93%E3%81%AF%E5%AE%B6%E4%BA%8B%E3%82%92%E3%81%97%E3%81%AA%E3%81%84%EF%BC%88%EF%BC%93%EF%BC%89-BE%E3%83%BBLOVE%E3%82%B3%E3%83%9F%E3%83%83%E3%82%AF%E3%82%B9-%E3%81%B2%E3%81%86%E3%82%89%E3%81%95%E3%81%A8%E3%82%8B-ebook/dp/B0C3CN3PLD/ref=sr_1_27?__mk_ja_JP=%E3%82%AB%E3%82%BF%E3%82%AB%E3%83%8A&keywords=%E5%AE%B6%E4%BA%8B&qid=1684117846&sr=8-27', 'https://www.amazon.co.jp/%E2%80%9C%E5%BD%93%E4%BA%8B%E8%80%85%E3%81%AB%E5%AF%84%E3%82%8A%E6%B7%BB%E3%81%86-%E5%AE%B6%E4%BA%8B%E8%AA%BF%E5%81%9C%E5%A7%94%E5%93%A1%E3%81%AE%E5%9F%BA%E6%9C%AC%E5%A7%BF%E5%8B%A2%E3%81%A8%E5%AE%9F%E8%B7%B5%E6%8A%80%E8%A1%93-%E9%A3%AF%E7%94%B0-%E9%82%A6%E7%94%B7/dp/486556523X/ref=sr_1_28?__mk_ja_JP=%E3%82%AB%E3%82%BF%E3%82%AB%E3%83%8A&keywords=%E5%AE%B6%E4%BA%8B&qid=1684117846&sr=8-28', 'https://www.amazon.co.jp/%E8%87%AA%E7%84%B6%E3%81%A8%E7%89%87%E3%81%A5%E3%81%8F%E9%83%A8%E5%B1%8B%E3%81%AB%E3%81%AA%E3%82%8B%EF%BC%81-%E9%95%B7%E7%B6%9A%E3%81%8D%E3%81%99%E3%82%8B%E3%83%A9%E3%82%AF%E5%AE%B6%E4%BA%8B%E5%8F%8E%E7%B4%8D%E8%A1%93-%E6%B0%B4%E8%B0%B7%E5%A6%99%E5%AD%90-ebook/dp/B08DQXP4JQ/ref=sr_1_29?__mk_ja_JP=%E3%82%AB%E3%82%BF%E3%82%AB%E3%83%8A&keywords=%E5%AE%B6%E4%BA%8B&qid=1684117846&sr=8-29', 'https://www.amazon.co.jp/%E3%82%A2%E3%83%A9%E3%83%95%E3%82%A9%E3%83%BC%E3%81%BE%E3%81%8D%E3%81%93%E3%81%AE%E3%81%94%E3%82%86%E3%82%8B%E3%82%8A%E5%AE%B6%E4%BA%8B-%E3%82%B3%E3%83%9F%E3%83%83%E3%82%AF%E3%82%A8%E3%83%83%E3%82%BB%E3%82%A4-%E6%9F%BF%E3%83%8E%E7%A8%AE-%E3%81%BE%E3%81%8D%E3%81%93-ebook/dp/B0BY1GNN11/ref=sr_1_30?__mk_ja_JP=%E3%82%AB%E3%82%BF%E3%82%AB%E3%83%8A&keywords=%E5%AE%B6%E4%BA%8B&qid=1684117846&sr=8-30', 'https://www.amazon.co.jp/%E5%88%A5%E5%86%8A%E3%82%A8%E3%83%83%E3%82%BB-%E6%8D%A8%E3%81%A6%E3%81%A6%E3%82%84%E3%82%81%E3%81%A6%E3%83%A9%E3%82%AF%E3%81%AB%E3%81%AA%E3%82%8B-%E3%82%84%E3%82%81%E3%82%8B%E5%AE%B6%E4%BA%8B-%E3%82%B3%E3%83%B3%E3%83%91%E3%82%AF%E3%83%88%E7%89%88-%E6%89%B6%E6%A1%91%E7%A4%BE/dp/4594620108/ref=sr_1_31?__mk_ja_JP=%E3%82%AB%E3%82%BF%E3%82%AB%E3%83%8A&keywords=%E5%AE%B6%E4%BA%8B&qid=1684117846&sr=8-31', 'https://www.amazon.co.jp/%E7%AC%AC1%E8%A9%B1/dp/B098TZH1VJ/ref=sr_1_32?__mk_ja_JP=%E3%82%AB%E3%82%BF%E3%82%AB%E3%83%8A&keywords=%E5%AE%B6%E4%BA%8B&qid=1684117846&sr=8-32', 'https://www.amazon.co.jp/%E8%A5%BF%E5%9C%92%E5%AF%BA%E3%81%95%E3%82%93%E3%81%AF%E5%AE%B6%E4%BA%8B%E3%82%92%E3%81%97%E3%81%AA%E3%81%84%EF%BC%88%EF%BC%92%EF%BC%89-BE%E3%83%BBLOVE%E3%82%B3%E3%83%9F%E3%83%83%E3%82%AF%E3%82%B9-%E3%81%B2%E3%81%86%E3%82%89%E3%81%95%E3%81%A8%E3%82%8B-ebook/dp/B0BGXFWG1D/ref=sr_1_33?__mk_ja_JP=%E3%82%AB%E3%82%BF%E3%82%AB%E3%83%8A&keywords=%E5%AE%B6%E4%BA%8B&qid=1684117846&sr=8-33', 'https://www.amazon.co.jp/%E3%83%9C%E3%83%B3%E3%83%89%E3%81%A8%E3%83%AD%E3%83%9C%E3%82%B3/dp/B0B77M2S8H/ref=sr_1_34?__mk_ja_JP=%E3%82%AB%E3%82%BF%E3%82%AB%E3%83%8A&keywords=%E5%AE%B6%E4%BA%8B&qid=1684117846&sr=8-34', 'https://www.amazon.co.jp/%E7%AC%AC%E5%85%AB%E8%A9%B1-%E3%83%AC%E3%83%87%E3%82%A3%E3%83%BC%E3%82%B9%E9%83%A8%E9%96%80-VS-%E3%83%99%E3%83%93%E3%83%BC%E9%83%A8%E9%96%80/dp/B08Z3R9BWV/ref=sr_1_35?__mk_ja_JP=%E3%82%AB%E3%82%BF%E3%82%AB%E3%83%8A&keywords=%E5%AE%B6%E4%BA%8B&qid=1684117846&sr=8-35', 'https://www.amazon.co.jp/%E7%AC%AC1%E8%A9%B1-%E3%83%97%E3%83%AD%E3%81%AE%E7%8B%AC%E8%BA%AB%E7%94%B7%E3%81%A8%E7%A7%98%E5%AF%86%E3%81%AE%E5%A5%91%E7%B4%84%E7%B5%90%E5%A9%9A/dp/B01M8HIM33/ref=sr_1_36?__mk_ja_JP=%E3%82%AB%E3%82%BF%E3%82%AB%E3%83%8A&keywords=%E5%AE%B6%E4%BA%8B&qid=1684117846&sr=8-36', 'https://www.amazon.co.jp/%E3%83%8E%E3%83%B3%E5%AD%9036%E6%AD%B3-%E5%AE%B6%E4%BA%8B%E6%89%8B%E4%BC%9D%E3%81%84-DVD-%E5%9D%82%E4%BA%95%E7%9C%9F%E7%B4%80/dp/B001UPL3Z0/ref=sr_1_37?__mk_ja_JP=%E3%82%AB%E3%82%BF%E3%82%AB%E3%83%8A&keywords=%E5%AE%B6%E4%BA%8B&qid=1684117846&sr=8-37', 'https://www.amazon.co.jp/%E5%8B%9D%E9%96%93%E5%BC%8F-%E8%B6%85%E3%83%AD%E3%82%B8%E3%82%AB%E3%83%AB%E5%AE%B6%E4%BA%8B-%E6%96%87%E5%BA%AB%E7%89%88-%E5%8B%9D%E9%96%93%E5%92%8C%E4%BB%A3/dp/4866430893/ref=sr_1_38?__mk_ja_JP=%E3%82%AB%E3%82%BF%E3%82%AB%E3%83%8A&keywords=%E5%AE%B6%E4%BA%8B&qid=1684117846&sr=8-38', 'https://www.amazon.co.jp/%E4%BB%8A%E3%82%84%E3%82%8B%E3%81%AE%E3%81%8C%E3%80%81%E3%81%84%E3%81%A1%E3%81%B0%E3%82%93%E3%83%8F%E3%83%A4%E3%82%A4-%E4%BA%BA%E7%94%9F%E3%81%8C%E6%95%B4%E3%81%86%E3%80%8C%E5%B0%8F%E7%89%87%E3%81%A5%E3%81%91%E3%80%8D-%E4%BA%95%E7%94%B0-%E5%85%B8%E5%AD%90/dp/4391158876/ref=sr_1_39?__mk_ja_JP=%E3%82%AB%E3%82%BF%E3%82%AB%E3%83%8A&keywords=%E5%AE%B6%E4%BA%8B&qid=1684117846&sr=8-39', 'https://www.amazon.co.jp/%E6%9B%B8%E3%81%84%E3%81%A6%E5%8F%B6%E3%81%88%E3%82%8B%E3%80%81%E3%82%B9%E3%83%83%E3%82%AD%E3%83%AA%E6%9A%AE%E3%82%89%E3%81%97-%E3%82%8F%E3%81%9F%E3%81%97%E3%81%AE%E3%80%8C%E3%83%8E%E3%83%BC%E3%83%88-%E6%89%8B%E5%B8%B3%E3%80%8D%E3%83%AB%E3%83%BC%E3%83%AB-%E3%82%8F%E3%81%9F%E3%81%97%E3%81%AE%E3%83%AB%E3%83%BC%E3%83%AB-%E3%82%A4%E3%83%B3%E3%83%97%E3%83%AC%E3%82%B9%E6%9B%B8%E7%B1%8D%E7%B7%A8%E9%9B%86%E9%83%A8/dp/4295003115/ref=sr_1_40?__mk_ja_JP=%E3%82%AB%E3%82%BF%E3%82%AB%E3%83%8A&keywords=%E5%AE%B6%E4%BA%8B&qid=1684117846&sr=8-40', 'https://www.amazon.co.jp/%E8%AA%BF%E5%81%9C%E7%AD%89%E3%81%AE%E6%9D%A1%E9%A0%85%E4%BE%8B%E9%9B%86-%E5%AE%B6%E4%BA%8B%E7%B7%A8-%E6%98%9F%E9%87%8E-%E9%9B%85%E7%B4%80/dp/4906929966/ref=sr_1_41?__mk_ja_JP=%E3%82%AB%E3%82%BF%E3%82%AB%E3%83%8A&keywords=%E5%AE%B6%E4%BA%8B&qid=1684117846&sr=8-41', 'https://www.amazon.co.jp/%E3%82%B3%E3%82%B9%E3%83%97%E3%83%AC%E5%A5%BD%E3%81%8D%E3%81%AE%E4%BE%9D%E9%A0%BC%E4%B8%BB%E3%81%AB%E9%A0%BC%E3%81%BE%E3%82%8C%E3%81%A6%E8%A3%B8%E3%82%A8%E3%83%97%E3%83%AD%E3%83%B3%E3%81%A7%E5%AE%B6%E4%BA%8B%E4%BB%A3%E8%A1%8C-%EF%BD%9E%E6%AF%8E%E9%80%B1%E9%87%91%E6%9B%9C%E3%81%AE%E7%A7%98%E4%BA%8B%EF%BD%9E-%E5%90%89%E9%87%8E-%E3%81%BE%E3%82%86%E3%81%BF-ebook/dp/B09DW9H7YW/ref=sr_1_42?__mk_ja_JP=%E3%82%AB%E3%82%BF%E3%82%AB%E3%83%8A&keywords=%E5%AE%B6%E4%BA%8B&qid=1684117846&sr=8-42', 'https://www.amazon.co.jp/%E6%99%8B%E9%81%8A%E8%88%8E%E3%83%A0%E3%83%83%E3%82%AF-LDK-%E3%82%B9%E3%82%B4%E6%A5%BD%E5%AE%B6%E4%BA%8B%E3%81%AE%E5%A4%A7%E7%99%BE%E7%A7%91-%E6%99%8B%E9%81%8A%E8%88%8E-ebook/dp/B08X4F94V6/ref=sr_1_43?__mk_ja_JP=%E3%82%AB%E3%82%BF%E3%82%AB%E3%83%8A&keywords=%E5%AE%B6%E4%BA%8B&qid=1684117846&sr=8-43', 'https://www.amazon.co.jp/%E5%AE%B6%E4%BA%8B%E6%B3%95%E3%81%AE%E7%90%86%E8%AB%96%E3%83%BB%E5%AE%9F%E5%8B%99%E3%83%BB%E5%88%A4%E4%BE%8B6-%E9%81%93%E5%9E%A3%E5%86%85-%E5%BC%98%E4%BA%BA/dp/4326449691/ref=sr_1_44?__mk_ja_JP=%E3%82%AB%E3%82%BF%E3%82%AB%E3%83%8A&keywords=%E5%AE%B6%E4%BA%8B&qid=1684117846&sr=8-44', 'https://www.amazon.co.jp/%E3%81%B6%E3%82%89%E3%82%8A%E3%80%81%E4%B8%96%E7%95%8C%E3%81%AE%E5%AE%B6%E4%BA%8B%E6%8E%A2%E8%A8%AA-%E3%83%A8%E3%83%BC%E3%83%AD%E3%83%83%E3%83%91%E7%B7%A8-%E3%81%A0%E3%81%84%E3%82%8F%E6%96%87%E5%BA%AB-%E9%98%BF%E9%83%A8-%E7%B5%A2%E5%AD%90/dp/447930889X/ref=sr_1_45?__mk_ja_JP=%E3%82%AB%E3%82%BF%E3%82%AB%E3%83%8A&keywords=%E5%AE%B6%E4%BA%8B&qid=1684117846&sr=8-45', 'https://www.amazon.co.jp/%E6%9A%AE%E3%82%89%E3%81%97%E3%81%AE%E3%83%A0%E3%83%80%E3%82%92%E3%81%AA%E3%81%8F%E3%81%97%E3%81%A6%E3%82%B7%E3%83%B3%E3%83%97%E3%83%AB%E3%81%AB-%E3%81%AA%E3%81%8F%E3%81%99%E5%AE%B6%E4%BA%8B-%E3%83%9E%E3%82%AD-ebook/dp/B08SW59D85/ref=sr_1_46?__mk_ja_JP=%E3%82%AB%E3%82%BF%E3%82%AB%E3%83%8A&keywords=%E5%AE%B6%E4%BA%8B&qid=1684117846&sr=8-46', 'https://www.amazon.co.jp/%E5%90%8D%E3%82%82%E3%81%AA%E3%81%8D%E5%AE%B6%E4%BA%8B%E5%A6%96%E6%80%AA-%E5%B9%BB%E5%86%AC%E8%88%8E%E5%8D%98%E8%A1%8C%E6%9C%AC-%E3%82%AB%E3%83%AF%E3%82%B0%E3%83%81%E3%83%9E%E3%82%B5%E3%83%9F-ebook/dp/B0BRPSHVZV/ref=sr_1_47?__mk_ja_JP=%E3%82%AB%E3%82%BF%E3%82%AB%E3%83%8A&keywords=%E5%AE%B6%E4%BA%8B&qid=1684117846&sr=8-47', 'https://www.amazon.co.jp/%E5%AE%B6%E4%BA%8B%E4%BA%8B%E4%BB%B6%E6%89%8B%E7%B6%9A%E6%B3%95%E4%B8%8B%E3%81%AB%E3%81%8A%E3%81%91%E3%82%8B%E6%9B%B8%E8%A8%98%E5%AE%98%E4%BA%8B%E5%8B%99%E3%81%AE%E9%81%8B%E7%94%A8%E3%81%AB%E9%96%A2%E3%81%99%E3%82%8B%E5%AE%9F%E8%A8%BC%E7%9A%84%E7%A0%94%E7%A9%B6%E2%80%95%E5%88%A5%E8%A1%A8%E7%AC%AC%E4%B8%80%E4%BA%8B%E4%BB%B6%E3%82%92%E4%B8%AD%E5%BF%83%E3%81%AB-%E8%A3%81%E5%88%A4%E6%89%80%E8%81%B7%E5%93%A1%E7%B7%8F%E5%90%88%E7%A0%94%E4%BF%AE%E6%89%80/dp/4906929605/ref=sr_1_48?__mk_ja_JP=%E3%82%AB%E3%82%BF%E3%82%AB%E3%83%8A&keywords=%E5%AE%B6%E4%BA%8B&qid=1684117846&sr=8-48', 'https://www.amazon.co.jp/%E3%81%99%E3%81%A3%E3%81%8D%E3%82%8A%E6%9A%AE%E3%82%89%E3%81%99%E3%81%9F%E3%82%81%E3%81%AE%E5%AE%B6%E4%BA%8B%E3%81%AE%E4%BB%95%E7%B5%84%E3%81%BF%E3%81%A5%E3%81%8F%E3%82%8A-%E4%B8%BB%E5%A9%A6%E3%81%AE%E5%8F%8B%E7%A4%BE/dp/4074339633/ref=sr_1_49?__mk_ja_JP=%E3%82%AB%E3%82%BF%E3%82%AB%E3%83%8A&keywords=%E5%AE%B6%E4%BA%8B&qid=1684117846&sr=8-49', 'https://www.amazon.co.jp/%E3%81%8A%E3%81%95%E3%82%88%E3%81%95%E3%82%93%E3%81%AE%E7%84%A1%E7%90%86%E3%81%AA%E3%81%8F%E3%81%A4%E3%81%A5%E3%81%8F%E5%AE%B6%E4%BA%8B%E3%81%90%E3%81%9B-%E3%81%8A%E3%81%95%E3%82%88%E3%81%95%E3%82%93/dp/4074187396/ref=sr_1_50?__mk_ja_JP=%E3%82%AB%E3%82%BF%E3%82%AB%E3%83%8A&keywords=%E5%AE%B6%E4%BA%8B&qid=1684117846&sr=8-50', 'https://www.amazon.co.jp/%E3%82%BA%E3%83%9C%E3%83%A9%E3%81%95%E3%82%93%E3%81%A7%E3%82%82%E6%9A%AE%E3%82%89%E3%81%97%E3%81%8C%E6%95%B4%E3%81%86%E6%A5%BD%E3%83%A9%E3%82%AF%E5%AE%B6%E4%BA%8B-%E9%AB%99%E6%A9%8B%E3%82%86%E3%81%8D/dp/4074456990/ref=sr_1_51?__mk_ja_JP=%E3%82%AB%E3%82%BF%E3%82%AB%E3%83%8A&keywords=%E5%AE%B6%E4%BA%8B&qid=1684117846&sr=8-51', 'https://www.amazon.co.jp/%E5%AE%B6%E4%BA%8B%E3%81%A7%E8%84%B3%E3%83%88%E3%83%AC65%E2%80%95%E4%BD%95%E6%AD%B3%E3%81%AB%E3%81%AA%E3%81%A3%E3%81%A6%E3%82%82%E8%84%B3%E3%81%8C%E6%88%90%E9%95%B7%E3%81%99%E3%82%8B%E5%AE%B6%E4%BA%8B%E3%81%AEHOW-%E5%8A%A0%E8%97%A4-%E4%BF%8A%E5%BE%B3/dp/4072998842/ref=sr_1_52?__mk_ja_JP=%E3%82%AB%E3%82%BF%E3%82%AB%E3%83%8A&keywords=%E5%AE%B6%E4%BA%8B&qid=1684117846&sr=8-52', 'https://www.amazon.co.jp/gp/slredirect/picassoRedirect.html/ref=pa_sp_btf_aps_sr_pg1_1?ie=UTF8&adId=AHSUZ0DFAAORT&qualifier=1684117846&id=3467903299615544&widgetName=sp_btf&url=%2F%25E3%2581%258B%25E3%2581%2591%25E3%2582%258B%25E6%2589%258B%25E9%2596%2593%25E3%2581%258C%25E5%258D%258A%25E5%2588%2586%25E3%2581%25AB-%25E5%259B%25B0%25E3%2582%258A%25E3%2581%2594%25E3%2581%25A8%25E8%25A7%25A3%25E6%25B1%25BA%25EF%25BC%2581%25E5%25AE%25B6%25E4%25BA%258B%25E3%2583%25AF%25E3%2582%25B6262-%25E3%2581%258B%25E3%2581%258A%25E3%2582%258A-ebook%2Fdp%2FB0BY1GCJXG%2Fref%3Dsr_1_53_sspa%3F__mk_ja_JP%3D%25E3%2582%25AB%25E3%2582%25BF%25E3%2582%25AB%25E3%2583%258A%26keywords%3D%25E5%25AE%25B6%25E4%25BA%258B%26qid%3D1684117846%26sr%3D8-53-spons%26psc%3D1', 'https://www.amazon.co.jp/gp/slredirect/picassoRedirect.html/ref=pa_sp_btf_aps_sr_pg1_1?ie=UTF8&adId=A2LRRIH8DCM5M8&qualifier=1684117846&id=3467903299615544&widgetName=sp_btf&url=%2F%25E3%2582%25A2%25E3%2583%25A9%25E3%2583%2595%25E3%2582%25A9%25E3%2583%25BC%25E3%2581%25BE%25E3%2581%258D%25E3%2581%2593%25E3%2581%25AE%25E3%2581%2594%25E3%2582%2586%25E3%2582%258B%25E3%2582%258A%25E5%25AE%25B6%25E4%25BA%258B-%25E3%2582%25B3%25E3%2583%259F%25E3%2583%2583%25E3%2582%25AF%25E3%2582%25A8%25E3%2583%2583%25E3%2582%25BB%25E3%2582%25A4-%25E6%259F%25BF%25E3%2583%258E%25E7%25A8%25AE-%25E3%2581%25BE%25E3%2581%258D%25E3%2581%2593-ebook%2Fdp%2FB0BY1GNN11%2Fref%3Dsr_1_54_sspa%3F__mk_ja_JP%3D%25E3%2582%25AB%25E3%2582%25BF%25E3%2582%25AB%25E3%2583%258A%26keywords%3D%25E5%25AE%25B6%25E4%25BA%258B%26qid%3D1684117846%26sr%3D8-54-spons%26psc%3D1', 'https://www.amazon.co.jp/gp/slredirect/picassoRedirect.html/ref=pa_sp_btf_aps_sr_pg1_1?ie=UTF8&adId=A23IGMFIRRDO16&qualifier=1684117846&id=3467903299615544&widgetName=sp_btf&url=%2F%25EF%25BC%2593%25EF%25BC%2596%25EF%25BC%2595%25E6%2597%25A5%25E3%2581%25AE%25E3%2581%25A8%25E3%2581%25A3%25E3%2581%25A6%25E3%2581%258A%25E3%2581%258D%25E5%25AE%25B6%25E4%25BA%258B%25E2%2580%2595%25E2%2580%2595%25E2%2580%2595%25E3%2582%2582%25E3%2581%25A3%25E3%2581%25A8%25E6%259A%25AE%25E3%2582%2589%25E3%2581%2597%25E3%2582%2584%25E3%2581%2599%25E3%2581%2584%25E5%25AE%25B6%25E3%2581%25A8%25E6%2599%2582%25E7%259F%25AD%25E3%2581%25AE%25E3%2581%2597%25E3%2581%258F%25E3%2581%25BF%25E3%2581%25A5%25E3%2581%258F%25E3%2582%258A-%25E4%25B8%2589%25E7%25AC%25A0%25E6%259B%25B8%25E6%2588%25BF-%25E9%259B%25BB%25E5%25AD%2590%25E6%259B%25B8%25E7%25B1%258D-%25E4%25B8%2589%25E6%25A2%259D-%25E5%2587%259B%25E8%258A%25B1-ebook%2Fdp%2FB07B2TKKPD%2Fref%3Dsr_1_55_sspa%3F__mk_ja_JP%3D%25E3%2582%25AB%25E3%2582%25BF%25E3%2582%25AB%25E3%2583%258A%26keywords%3D%25E5%25AE%25B6%25E4%25BA%258B%26qid%3D1684117846%26sr%3D8-55-spons%26psc%3D1']\n"
     ]
    }
   ],
   "source": [
    "page_source=BeautifulSoup(driver.page_source,'html.parser')\n",
    "profiles=page_source.find_all('a',class_='a-link-normal s-underline-text s-underline-link-text s-link-style a-text-normal')\n",
    "\n",
    "all_profiles=[]\n",
    "for profile in profiles:\n",
    "    profile_id=profile.get('href')\n",
    "    profile_url='https://www.amazon.co.jp'+profile_id\n",
    "    if profile_url not in all_profiles:\n",
    "        all_profiles.append(profile_url)\n",
    "print(all_profiles)\n"
   ]
  },
  {
   "attachments": {},
   "cell_type": "markdown",
   "metadata": {},
   "source": [
    "## linkを取り使う"
   ]
  },
  {
   "cell_type": "code",
   "execution_count": 178,
   "metadata": {},
   "outputs": [],
   "source": [
    "\n",
    "def get_url():\n",
    "    page_source=BeautifulSoup(driver.page_source,'html.parser')\n",
    "    profiles=page_source.find_all('a',class_='a-link-normal s-underline-text s-underline-link-text s-link-style a-text-normal')\n",
    "    \n",
    "    all_profiles=[]\n",
    "    for profile in profiles:\n",
    "        profile_id=profile.get('href')\n",
    "        profile_url='https://www.amazon.co.jp'+profile_id\n",
    "        if profile_url not in all_profiles:\n",
    "            all_profiles.append(profile_url)\n",
    "    return all_profiles\n",
    "\n"
   ]
  },
  {
   "cell_type": "code",
   "execution_count": 179,
   "metadata": {},
   "outputs": [],
   "source": [
    "def scrape_data():\n",
    "    d={'id':[],\"name\":[],'price':[],\"rating\":[],\"comment\":[]}\n",
    "    for link in get_url():\n",
    "        driver.get(link)\n",
    "        d['id'].append(link)\n",
    "        page_source = BeautifulSoup(driver.page_source, \"html.parser\")\n",
    "        try:\n",
    "            name = page_source.find('span', id='productTitle').text.strip()\n",
    "            d['name'].append(name)\n",
    "        except:\n",
    "                 d['name'].append(\"\")\n",
    "        try:\n",
    "            price = page_source.find('span', class_='a-price-whole').text.strip()\n",
    "            d['price'].append(price)\n",
    "\n",
    "        except:\n",
    "             d['price'].append(\"\")    \n",
    "        try:\n",
    "            rating = page_source.find('span', class_='a-icon-alt').text.strip()\n",
    "            d['rating'].append(rating)\n",
    "        except:\n",
    "             d['rating'].append(\"\")\n",
    "        comment = page_source.find('span',id=\"acrCustomerReviewText\")\n",
    "        if comment is not None:\n",
    "            d['comment'].append(comment.text.strip())\n",
    "        else:\n",
    "            d['comment'].append('')\n",
    "        print('\\n')\n",
    "    \n",
    "    return d\n"
   ]
  },
  {
   "cell_type": "code",
   "execution_count": null,
   "metadata": {},
   "outputs": [],
   "source": [
    "\n",
    "df=pd.DataFrame.from_dict(scrape_data())\n",
    "df['price'].replace(\"\",np.nan,inplace=True)\n",
    "df=df.dropna(subset=['price'])\n",
    "df['price']=df['price'].str.replace(',',\"\").astype(int)\n"
   ]
  },
  {
   "cell_type": "code",
   "execution_count": 181,
   "metadata": {},
   "outputs": [],
   "source": [
    "df['comment'].replace(\"\",np.nan,inplace=True)\n",
    "df=df.dropna(subset=['comment'])\n"
   ]
  },
  {
   "attachments": {},
   "cell_type": "markdown",
   "metadata": {},
   "source": [
    "## 最高価格と最低価格は何ですか？"
   ]
  },
  {
   "cell_type": "code",
   "execution_count": 182,
   "metadata": {},
   "outputs": [
    {
     "name": "stdout",
     "output_type": "stream",
     "text": [
      "最高価格は '家事事件手続法下における書記官事務の運用に関する実証的研究―別表第一事件を中心に―'という商品 8800円があります、\n",
      "逆に最低価格は ’自然と片づく部屋になる！ 長続きするラク家事収納術’という商品 494円があります\n"
     ]
    }
   ],
   "source": [
    "valuse=df.groupby('name')['price'].sum()\n",
    "valuse_sorted=valuse.sort_values(ascending=False)\n",
    "max=valuse_sorted.iloc[0]\n",
    "min=valuse_sorted.iloc[-1]\n",
    "print(\"最高価格は '{}'という商品 {}円があります、\\n逆に最低価格は ’{}’という商品 {}円があります\".format(valuse_sorted.index[0],max,valuse_sorted.index[-1],min))\n"
   ]
  },
  {
   "attachments": {},
   "cell_type": "markdown",
   "metadata": {},
   "source": [
    "## 評価（rating）が最も多い星数の商品数と最も少ない星数の商品数"
   ]
  },
  {
   "cell_type": "code",
   "execution_count": 243,
   "metadata": {},
   "outputs": [
    {
     "name": "stdout",
     "output_type": "stream",
     "text": [
      "評価が最も多い星数の商品数は“当事者に寄り添う\"家事調停委員の基本姿勢と実践技術というの商品が5つ星のうち5.0です、\n",
      "逆に最も少ない星数の商品数は別冊エッセ　捨ててやめてラクになる　やめる家事　コンパクト版という商品が5つ星のうち3.0です\n"
     ]
    }
   ],
   "source": [
    "df['rating'].str.slice(-3,).astype(float)\n",
    "valuse_rating=df.groupby('name')['rating'].sum()\n",
    "sorted_valuse_rating=valuse_rating.sort_values(ascending=False)\n",
    "max_rating=sorted_valuse_rating.iloc[0]\n",
    "min_rating=sorted_valuse_rating.iloc[-1]\n",
    "print(\"評価が最も多い星数の商品数は{}というの商品が{}です、\\n逆に最も少ない星数の商品数は{}という商品が{}です\".format(sorted_valuse_rating.index[0],max_rating,sorted_valuse_rating.index[-1],min_rating))"
   ]
  },
  {
   "attachments": {},
   "cell_type": "markdown",
   "metadata": {},
   "source": [
    "## 最も多くのレビューを持つ商品と最も少ないのレビューを持つ商品"
   ]
  },
  {
   "cell_type": "code",
   "execution_count": 198,
   "metadata": {},
   "outputs": [
    {
     "name": "stdout",
     "output_type": "stream",
     "text": [
      "最も多くのレビューを持つ商品は「家事のしすぎ」が日本を滅ぼす (光文社新書)という商品が90個あります、\n",
      "最も少ないのレビューを持つ商品は西園寺さんは家事をしない（２） (BE・LOVEコミックス)という商品が1個あります\n"
     ]
    }
   ],
   "source": [
    "df['comment_count']=df['comment'].str.replace(\"個の評価\",\"\")\n",
    "valuse_commet=df.groupby('name')['comment_count'].sum()\n",
    "sorte_valuse_commet=valuse_commet.sort_values(ascending=False)\n",
    "max_commet=sorte_valuse_commet.iloc[0]\n",
    "min_commet=sorte_valuse_commet.iloc[-1]\n",
    "print('最も多くのレビューを持つ商品は{}という商品が{}個あります、\\n最も少ないのレビューを持つ商品は{}という商品が{}個あります'.format(sorte_valuse_commet.index[0],max_commet,sorte_valuse_commet.index[-1],min_commet))"
   ]
  },
  {
   "attachments": {},
   "cell_type": "markdown",
   "metadata": {},
   "source": [
    "## 産品名が重複している製品"
   ]
  },
  {
   "cell_type": "code",
   "execution_count": 226,
   "metadata": {},
   "outputs": [
    {
     "name": "stdout",
     "output_type": "stream",
     "text": [
      "産品名が重複している製品は4個ありますか\n"
     ]
    }
   ],
   "source": [
    "duplicate_count = len(df[df.duplicated(subset=['name'], keep=False)].value_counts())\n"
   ]
  },
  {
   "cell_type": "code",
   "execution_count": 238,
   "metadata": {},
   "outputs": [
    {
     "name": "stdout",
     "output_type": "stream",
     "text": [
      "産品名が重複している製品はクロワッサン特別編集 無駄のない「家事」。 (マガジンハウスムック)です。\n",
      "産品名が重複している製品はアラフォーまきこのごゆるり家事 (コミックエッセイ)です。\n"
     ]
    }
   ],
   "source": [
    "unique_names = df['name'].unique()\n",
    "\n",
    "for name in unique_names:\n",
    "    count = df[df['name'] == name]['name'].count()\n",
    "    if count > 1:\n",
    "       print(f'産品名が重複している製品は{name}です。')\n",
    "\n"
   ]
  },
  {
   "attachments": {},
   "cell_type": "markdown",
   "metadata": {},
   "source": [
    "## 2000円以上で評価が最高の製品は何個ありますか"
   ]
  },
  {
   "cell_type": "code",
   "execution_count": 270,
   "metadata": {},
   "outputs": [
    {
     "name": "stdout",
     "output_type": "stream",
     "text": [
      "2000円以上で評価が最高の製品は3個あります\n",
      "それは：\n"
     ]
    },
    {
     "data": {
      "text/html": [
       "<div>\n",
       "<style scoped>\n",
       "    .dataframe tbody tr th:only-of-type {\n",
       "        vertical-align: middle;\n",
       "    }\n",
       "\n",
       "    .dataframe tbody tr th {\n",
       "        vertical-align: top;\n",
       "    }\n",
       "\n",
       "    .dataframe thead th {\n",
       "        text-align: right;\n",
       "    }\n",
       "</style>\n",
       "<table border=\"1\" class=\"dataframe\">\n",
       "  <thead>\n",
       "    <tr style=\"text-align: right;\">\n",
       "      <th></th>\n",
       "      <th>name</th>\n",
       "    </tr>\n",
       "  </thead>\n",
       "  <tbody>\n",
       "    <tr>\n",
       "      <th>27</th>\n",
       "      <td>“当事者に寄り添う\"家事調停委員の基本姿勢と実践技術</td>\n",
       "    </tr>\n",
       "    <tr>\n",
       "      <th>36</th>\n",
       "      <td>ノン子36歳(家事手伝い) [DVD]</td>\n",
       "    </tr>\n",
       "    <tr>\n",
       "      <th>47</th>\n",
       "      <td>家事事件手続法下における書記官事務の運用に関する実証的研究―別表第一事件を中心に―</td>\n",
       "    </tr>\n",
       "  </tbody>\n",
       "</table>\n",
       "</div>"
      ],
      "text/plain": [
       "                                         name\n",
       "27                 “当事者に寄り添う\"家事調停委員の基本姿勢と実践技術\n",
       "36                        ノン子36歳(家事手伝い) [DVD]\n",
       "47  家事事件手続法下における書記官事務の運用に関する実証的研究―別表第一事件を中心に―"
      ]
     },
     "execution_count": 270,
     "metadata": {},
     "output_type": "execute_result"
    }
   ],
   "source": [
    "\n",
    "df['price'] = df['price'].astype(float)\n",
    "top_products = df[(df['price'] > 2000) & (df[\"rating\"] >\"4.5\")]\n",
    "counts=len(top_products)\n",
    "print(f\"2000円以上で評価が最高の製品は{count}個あります\")\n",
    "print('それは：')\n",
    "top_products[['name']]"
   ]
  }
 ],
 "metadata": {
  "kernelspec": {
   "display_name": "base",
   "language": "python",
   "name": "python3"
  },
  "language_info": {
   "codemirror_mode": {
    "name": "ipython",
    "version": 3
   },
   "file_extension": ".py",
   "mimetype": "text/x-python",
   "name": "python",
   "nbconvert_exporter": "python",
   "pygments_lexer": "ipython3",
   "version": "3.9.13"
  },
  "orig_nbformat": 4
 },
 "nbformat": 4,
 "nbformat_minor": 2
}
